{
 "cells": [
  {
   "cell_type": "markdown",
   "metadata": {},
   "source": [
    "### Data Preparation"
   ]
  },
  {
   "cell_type": "code",
   "execution_count": 1,
   "metadata": {},
   "outputs": [],
   "source": [
    "import pandas as pd"
   ]
  },
  {
   "cell_type": "code",
   "execution_count": 2,
   "metadata": {},
   "outputs": [],
   "source": [
    "df = pd.read_csv('../data/world_pop_wide.csv')"
   ]
  },
  {
   "cell_type": "code",
   "execution_count": 3,
   "metadata": {},
   "outputs": [
    {
     "data": {
      "text/plain": [
       "(264, 61)"
      ]
     },
     "execution_count": 3,
     "metadata": {},
     "output_type": "execute_result"
    }
   ],
   "source": [
    "df.shape"
   ]
  },
  {
   "cell_type": "code",
   "execution_count": 4,
   "metadata": {},
   "outputs": [],
   "source": [
    "df.drop('Country Code', axis=1, inplace=True)"
   ]
  },
  {
   "cell_type": "code",
   "execution_count": 5,
   "metadata": {},
   "outputs": [
    {
     "data": {
      "text/plain": [
       "(264, 60)"
      ]
     },
     "execution_count": 5,
     "metadata": {},
     "output_type": "execute_result"
    }
   ],
   "source": [
    "df.shape"
   ]
  },
  {
   "cell_type": "code",
   "execution_count": 6,
   "metadata": {},
   "outputs": [
    {
     "data": {
      "text/html": [
       "<div>\n",
       "<style scoped>\n",
       "    .dataframe tbody tr th:only-of-type {\n",
       "        vertical-align: middle;\n",
       "    }\n",
       "\n",
       "    .dataframe tbody tr th {\n",
       "        vertical-align: top;\n",
       "    }\n",
       "\n",
       "    .dataframe thead th {\n",
       "        text-align: right;\n",
       "    }\n",
       "</style>\n",
       "<table border=\"1\" class=\"dataframe\">\n",
       "  <thead>\n",
       "    <tr style=\"text-align: right;\">\n",
       "      <th></th>\n",
       "      <th>Country Name</th>\n",
       "      <th>Year</th>\n",
       "      <th>Population</th>\n",
       "    </tr>\n",
       "  </thead>\n",
       "  <tbody>\n",
       "    <tr>\n",
       "      <td>0</td>\n",
       "      <td>Aruba</td>\n",
       "      <td>1960</td>\n",
       "      <td>54211.0</td>\n",
       "    </tr>\n",
       "    <tr>\n",
       "      <td>1</td>\n",
       "      <td>Afghanistan</td>\n",
       "      <td>1960</td>\n",
       "      <td>8996973.0</td>\n",
       "    </tr>\n",
       "    <tr>\n",
       "      <td>2</td>\n",
       "      <td>Angola</td>\n",
       "      <td>1960</td>\n",
       "      <td>5454933.0</td>\n",
       "    </tr>\n",
       "    <tr>\n",
       "      <td>3</td>\n",
       "      <td>Albania</td>\n",
       "      <td>1960</td>\n",
       "      <td>1608800.0</td>\n",
       "    </tr>\n",
       "    <tr>\n",
       "      <td>4</td>\n",
       "      <td>Andorra</td>\n",
       "      <td>1960</td>\n",
       "      <td>13411.0</td>\n",
       "    </tr>\n",
       "    <tr>\n",
       "      <td>...</td>\n",
       "      <td>...</td>\n",
       "      <td>...</td>\n",
       "      <td>...</td>\n",
       "    </tr>\n",
       "    <tr>\n",
       "      <td>15571</td>\n",
       "      <td>Kosovo</td>\n",
       "      <td>2018</td>\n",
       "      <td>1845300.0</td>\n",
       "    </tr>\n",
       "    <tr>\n",
       "      <td>15572</td>\n",
       "      <td>Yemen, Rep.</td>\n",
       "      <td>2018</td>\n",
       "      <td>28498687.0</td>\n",
       "    </tr>\n",
       "    <tr>\n",
       "      <td>15573</td>\n",
       "      <td>South Africa</td>\n",
       "      <td>2018</td>\n",
       "      <td>57779622.0</td>\n",
       "    </tr>\n",
       "    <tr>\n",
       "      <td>15574</td>\n",
       "      <td>Zambia</td>\n",
       "      <td>2018</td>\n",
       "      <td>17351822.0</td>\n",
       "    </tr>\n",
       "    <tr>\n",
       "      <td>15575</td>\n",
       "      <td>Zimbabwe</td>\n",
       "      <td>2018</td>\n",
       "      <td>14439018.0</td>\n",
       "    </tr>\n",
       "  </tbody>\n",
       "</table>\n",
       "<p>15576 rows × 3 columns</p>\n",
       "</div>"
      ],
      "text/plain": [
       "       Country Name  Year  Population\n",
       "0             Aruba  1960     54211.0\n",
       "1       Afghanistan  1960   8996973.0\n",
       "2            Angola  1960   5454933.0\n",
       "3           Albania  1960   1608800.0\n",
       "4           Andorra  1960     13411.0\n",
       "...             ...   ...         ...\n",
       "15571        Kosovo  2018   1845300.0\n",
       "15572   Yemen, Rep.  2018  28498687.0\n",
       "15573  South Africa  2018  57779622.0\n",
       "15574        Zambia  2018  17351822.0\n",
       "15575      Zimbabwe  2018  14439018.0\n",
       "\n",
       "[15576 rows x 3 columns]"
      ]
     },
     "execution_count": 6,
     "metadata": {},
     "output_type": "execute_result"
    }
   ],
   "source": [
    "df.melt(id_vars='Country Name').rename(columns={'variable':'Year',\n",
    "                                               'value':'Population'})"
   ]
  },
  {
   "cell_type": "code",
   "execution_count": 7,
   "metadata": {},
   "outputs": [],
   "source": [
    "melted = df.melt(id_vars='Country Name').rename(columns={'variable':'Year',\n",
    "                                               'value':'Population'})"
   ]
  },
  {
   "cell_type": "code",
   "execution_count": 8,
   "metadata": {},
   "outputs": [
    {
     "data": {
      "text/plain": [
       "(15576, 3)"
      ]
     },
     "execution_count": 8,
     "metadata": {},
     "output_type": "execute_result"
    }
   ],
   "source": [
    "melted.shape"
   ]
  },
  {
   "cell_type": "markdown",
   "metadata": {},
   "source": [
    "### Q1: Which countries have said the highest Percentage increase in Pop in 5 years?"
   ]
  },
  {
   "cell_type": "code",
   "execution_count": 9,
   "metadata": {},
   "outputs": [],
   "source": [
    "year_condition = melted['Year'].str.contains('2013|2018')"
   ]
  },
  {
   "cell_type": "code",
   "execution_count": 10,
   "metadata": {},
   "outputs": [
    {
     "data": {
      "text/plain": [
       "Country Name\n",
       "Oman                 28.28\n",
       "Maldives             24.09\n",
       "Equatorial Guinea    21.61\n",
       "Niger                21.29\n",
       "Uganda               19.69\n",
       "Bahrain              19.35\n",
       "Qatar                19.05\n",
       "Angola               18.43\n",
       "Congo, Dem. Rep.     17.81\n",
       "Nauru                17.40\n",
       "Name: Population, dtype: float64"
      ]
     },
     "execution_count": 10,
     "metadata": {},
     "output_type": "execute_result"
    }
   ],
   "source": [
    "def percentage_change(s):\n",
    "    pdiff = s.iloc[1] - s.iloc[0]\n",
    "    pchange = pdiff/s.iloc[0]\n",
    "    return round(pchange *100, 2)\n",
    "\n",
    "melted[year_condition].sort_values('Year').groupby('Country Name')['Population'].apply(\n",
    "    percentage_change).sort_values(ascending=False).head(10)"
   ]
  },
  {
   "cell_type": "markdown",
   "metadata": {},
   "source": [
    "### Q2: Countries wherein the Population has remained essentially unchanged for 30 years"
   ]
  },
  {
   "cell_type": "code",
   "execution_count": 11,
   "metadata": {},
   "outputs": [],
   "source": [
    "year_condition = melted['Year'].astype(int) > 1988"
   ]
  },
  {
   "cell_type": "code",
   "execution_count": 12,
   "metadata": {},
   "outputs": [
    {
     "data": {
      "text/plain": [
       "Country Name\n",
       "Dominica                           506.812895\n",
       "Greenland                          518.119776\n",
       "St. Vincent and the Grenadines     664.333583\n",
       "Tuvalu                             806.531847\n",
       "Faroe Islands                      845.241434\n",
       "Nauru                             1008.657529\n",
       "Palau                             1405.632774\n",
       "Virgin Islands (U.S.)             1671.726208\n",
       "Gibraltar                         2092.193987\n",
       "Bermuda                           2442.434550\n",
       "Name: Population, dtype: float64"
      ]
     },
     "execution_count": 12,
     "metadata": {},
     "output_type": "execute_result"
    }
   ],
   "source": [
    "melted[year_condition].groupby('Country Name')['Population'].std().sort_values().head(10)"
   ]
  },
  {
   "cell_type": "code",
   "execution_count": 13,
   "metadata": {},
   "outputs": [],
   "source": [
    "hi_pop = melted['Population'] > 1e7"
   ]
  },
  {
   "cell_type": "code",
   "execution_count": 14,
   "metadata": {},
   "outputs": [
    {
     "data": {
      "text/plain": [
       "Country Name\n",
       "Belarus                66969.688288\n",
       "Sweden                 88725.637583\n",
       "Czech Republic        130023.107931\n",
       "Hungary               140186.009023\n",
       "Portugal              179715.429186\n",
       "Dominican Republic    216731.001899\n",
       "Poland                232541.109992\n",
       "Cuba                  241616.199674\n",
       "Greece                277190.732204\n",
       "South Sudan           314740.102384\n",
       "Name: Population, dtype: float64"
      ]
     },
     "execution_count": 14,
     "metadata": {},
     "output_type": "execute_result"
    }
   ],
   "source": [
    "melted[year_condition & hi_pop].groupby('Country Name')['Population'].std().sort_values().head(10)"
   ]
  },
  {
   "cell_type": "markdown",
   "metadata": {},
   "source": [
    "### Q3: Countries wherein the current population is not the max-ever Population \n",
    "This means that some earlier year had a higher population, so there has been a significant exodus"
   ]
  },
  {
   "cell_type": "code",
   "execution_count": 15,
   "metadata": {},
   "outputs": [],
   "source": [
    "melted['Highest_pop'] = melted.groupby('Country Name')['Population'].transform(max)"
   ]
  },
  {
   "cell_type": "code",
   "execution_count": 16,
   "metadata": {},
   "outputs": [],
   "source": [
    "df2018 = melted[melted['Year'] == '2018']"
   ]
  },
  {
   "cell_type": "code",
   "execution_count": 17,
   "metadata": {},
   "outputs": [],
   "source": [
    "unequal_pop_rows = df2018['Population'] != df2018['Highest_pop']"
   ]
  },
  {
   "cell_type": "code",
   "execution_count": 18,
   "metadata": {},
   "outputs": [
    {
     "data": {
      "text/plain": [
       "array(['Albania', 'Andorra', 'Armenia', 'American Samoa', 'Bulgaria',\n",
       "       'Bosnia and Herzegovina', 'Belarus', 'Bermuda',\n",
       "       'Central Europe and the Baltics', 'Cuba', 'Curacao', 'Dominica',\n",
       "       'Eritrea', 'Spain', 'Estonia', 'Georgia', 'Gibraltar', 'Greece',\n",
       "       'Greenland', 'Guyana', 'Croatia', 'Hungary', 'Isle of Man',\n",
       "       'Not classified', 'Italy', 'Japan', 'Lithuania', 'Latvia',\n",
       "       'St. Martin (French part)', 'Moldova', 'Montenegro',\n",
       "       'Northern Mariana Islands', 'Nauru', 'Palau', 'Poland',\n",
       "       'Puerto Rico', 'Portugal', 'Romania', 'Russian Federation',\n",
       "       'Serbia', 'Syrian Arab Republic', 'Tonga', 'Ukraine',\n",
       "       'Venezuela, RB', 'Virgin Islands (U.S.)', 'Kosovo'], dtype=object)"
      ]
     },
     "execution_count": 18,
     "metadata": {},
     "output_type": "execute_result"
    }
   ],
   "source": [
    "df2018[unequal_pop_rows]['Country Name'].values"
   ]
  },
  {
   "cell_type": "markdown",
   "metadata": {},
   "source": [
    "https://youtu.be/ygYJNXbgLGY\n"
   ]
  },
  {
   "cell_type": "code",
   "execution_count": 19,
   "metadata": {},
   "outputs": [
    {
     "data": {
      "image/jpeg": "[encoded data removed]",
      "text/html": [
       "\n",
       "        <iframe\n",
       "            width=\"400\"\n",
       "            height=\"300\"\n",
       "            src=\"https://www.youtube.com/embed/ygYJNXbgLGY\"\n",
       "            frameborder=\"0\"\n",
       "            allowfullscreen\n",
       "        ></iframe>\n",
       "        "
      ],
      "text/plain": [
       "<IPython.lib.display.YouTubeVideo at 0x17f26609508>"
      ]
     },
     "execution_count": 19,
     "metadata": {},
     "output_type": "execute_result"
    }
   ],
   "source": [
    "vstr = 'ygYJNXbgLGY'\n",
    "from IPython.display import YouTubeVideo\n",
    "YouTubeVideo(vstr)"
   ]
  },
  {
   "cell_type": "code",
   "execution_count": null,
   "metadata": {},
   "outputs": [],
   "source": []
  }
 ],
 "metadata": {
  "kernelspec": {
   "display_name": "Python 3",
   "language": "python",
   "name": "python3"
  },
  "language_info": {
   "codemirror_mode": {
    "name": "ipython",
    "version": 3
   },
   "file_extension": ".py",
   "mimetype": "text/x-python",
   "name": "python",
   "nbconvert_exporter": "python",
   "pygments_lexer": "ipython3",
   "version": "3.7.4"
  }
 },
 "nbformat": 4,
 "nbformat_minor": 4
}
