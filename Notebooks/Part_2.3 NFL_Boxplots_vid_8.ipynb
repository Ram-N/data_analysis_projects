{
 "cells": [
  {
   "cell_type": "markdown",
   "metadata": {},
   "source": [
    "### Notebook Used in Part 2 of Basic NFL Data Analysis\n",
    "\n",
    "This is the notebook I used for Part 2 of our Basic analysis of NFL games.\n",
    "- NFL Season: 2018-19\n",
    "\n",
    "Ram Narasimhan\n",
    "\n",
    "Questions? Twitter: @ramnarasimhan"
   ]
  },
  {
   "cell_type": "code",
   "execution_count": 29,
   "metadata": {},
   "outputs": [],
   "source": [
    "import pandas as pd\n",
    "import seaborn as sns\n",
    "import matplotlib.pyplot as plt\n",
    "%matplotlib inline"
   ]
  },
  {
   "cell_type": "markdown",
   "metadata": {},
   "source": [
    "Logic we will use:\n",
    "1.     Pick each time, one by one.\n",
    "1.    Filter their home games. Calc the win-loss Home loss = (total home games - home win)\n",
    "1.   Filter their Away games. Do the same."
   ]
  },
  {
   "cell_type": "markdown",
   "metadata": {},
   "source": [
    "### All the Preprocessing Steps that we did in Part 1 one cell"
   ]
  },
  {
   "cell_type": "code",
   "execution_count": 30,
   "metadata": {},
   "outputs": [],
   "source": [
    "base = \"https://raw.githubusercontent.com/ryurko/nflscrapR-data/master/games_data/regular_season/reg_games_\"\n",
    "year = 2018\n",
    "coda = \".csv\"\n",
    "url = base + str(year) + coda\n",
    "\n",
    "df = pd.read_csv(url)\n",
    "\n",
    "# There are some columns that we don't want. Let's drop those\n",
    "drop_columns = ['type', 'state_of_game', 'game_url']\n",
    "\n",
    "# axis = 1 is to tell Pandas to drop the columns.\n",
    "# inplace = True drops them permanently\n",
    "df.drop(columns=drop_columns, axis=1, inplace=True)\n",
    "\n",
    "# We create two new columns in the data frame and store it. \n",
    "# This column can take negative values (if the home team lost) or positive values (if the home team won)\n",
    "df['home_adv_score'] = df['home_score'] - df['away_score']\n",
    "\n",
    "#THe following line creates a new column, with True/False values for whether the home team won\n",
    "df['home_win'] = df['home_adv_score'] >= 0 \n",
    "df['away_win'] = df['home_adv_score'] < 0 "
   ]
  },
  {
   "cell_type": "code",
   "execution_count": 31,
   "metadata": {},
   "outputs": [
    {
     "name": "stdout",
     "output_type": "stream",
     "text": [
      "(256, 10)\n"
     ]
    },
    {
     "data": {
      "text/html": [
       "<div>\n",
       "<style scoped>\n",
       "    .dataframe tbody tr th:only-of-type {\n",
       "        vertical-align: middle;\n",
       "    }\n",
       "\n",
       "    .dataframe tbody tr th {\n",
       "        vertical-align: top;\n",
       "    }\n",
       "\n",
       "    .dataframe thead th {\n",
       "        text-align: right;\n",
       "    }\n",
       "</style>\n",
       "<table border=\"1\" class=\"dataframe\">\n",
       "  <thead>\n",
       "    <tr style=\"text-align: right;\">\n",
       "      <th></th>\n",
       "      <th>game_id</th>\n",
       "      <th>home_team</th>\n",
       "      <th>away_team</th>\n",
       "      <th>week</th>\n",
       "      <th>season</th>\n",
       "      <th>home_score</th>\n",
       "      <th>away_score</th>\n",
       "      <th>home_adv_score</th>\n",
       "      <th>home_win</th>\n",
       "      <th>away_win</th>\n",
       "    </tr>\n",
       "  </thead>\n",
       "  <tbody>\n",
       "    <tr>\n",
       "      <th>0</th>\n",
       "      <td>2018090600</td>\n",
       "      <td>PHI</td>\n",
       "      <td>ATL</td>\n",
       "      <td>1</td>\n",
       "      <td>2018</td>\n",
       "      <td>18</td>\n",
       "      <td>12</td>\n",
       "      <td>6</td>\n",
       "      <td>True</td>\n",
       "      <td>False</td>\n",
       "    </tr>\n",
       "    <tr>\n",
       "      <th>1</th>\n",
       "      <td>2018090900</td>\n",
       "      <td>BAL</td>\n",
       "      <td>BUF</td>\n",
       "      <td>1</td>\n",
       "      <td>2018</td>\n",
       "      <td>47</td>\n",
       "      <td>3</td>\n",
       "      <td>44</td>\n",
       "      <td>True</td>\n",
       "      <td>False</td>\n",
       "    </tr>\n",
       "    <tr>\n",
       "      <th>2</th>\n",
       "      <td>2018090907</td>\n",
       "      <td>NYG</td>\n",
       "      <td>JAX</td>\n",
       "      <td>1</td>\n",
       "      <td>2018</td>\n",
       "      <td>15</td>\n",
       "      <td>20</td>\n",
       "      <td>-5</td>\n",
       "      <td>False</td>\n",
       "      <td>True</td>\n",
       "    </tr>\n",
       "    <tr>\n",
       "      <th>3</th>\n",
       "      <td>2018090906</td>\n",
       "      <td>NO</td>\n",
       "      <td>TB</td>\n",
       "      <td>1</td>\n",
       "      <td>2018</td>\n",
       "      <td>40</td>\n",
       "      <td>48</td>\n",
       "      <td>-8</td>\n",
       "      <td>False</td>\n",
       "      <td>True</td>\n",
       "    </tr>\n",
       "    <tr>\n",
       "      <th>4</th>\n",
       "      <td>2018090905</td>\n",
       "      <td>NE</td>\n",
       "      <td>HOU</td>\n",
       "      <td>1</td>\n",
       "      <td>2018</td>\n",
       "      <td>27</td>\n",
       "      <td>20</td>\n",
       "      <td>7</td>\n",
       "      <td>True</td>\n",
       "      <td>False</td>\n",
       "    </tr>\n",
       "  </tbody>\n",
       "</table>\n",
       "</div>"
      ],
      "text/plain": [
       "      game_id home_team away_team  week  season  home_score  away_score  \\\n",
       "0  2018090600       PHI       ATL     1    2018          18          12   \n",
       "1  2018090900       BAL       BUF     1    2018          47           3   \n",
       "2  2018090907       NYG       JAX     1    2018          15          20   \n",
       "3  2018090906        NO        TB     1    2018          40          48   \n",
       "4  2018090905        NE       HOU     1    2018          27          20   \n",
       "\n",
       "   home_adv_score  home_win  away_win  \n",
       "0               6      True     False  \n",
       "1              44      True     False  \n",
       "2              -5     False      True  \n",
       "3              -8     False      True  \n",
       "4               7      True     False  "
      ]
     },
     "execution_count": 31,
     "metadata": {},
     "output_type": "execute_result"
    }
   ],
   "source": [
    "print(df.shape) #one row for each game that was played\n",
    "df.head()"
   ]
  },
  {
   "cell_type": "code",
   "execution_count": 32,
   "metadata": {},
   "outputs": [
    {
     "data": {
      "text/plain": [
       "array(['PHI', 'BAL', 'NYG', 'NO', 'NE', 'MIN', 'MIA', 'IND', 'CLE', 'LAC',\n",
       "       'DEN', 'CAR', 'ARI', 'GB', 'DET', 'OAK', 'CIN', 'ATL', 'WAS',\n",
       "       'TEN', 'TB', 'PIT', 'NYJ', 'BUF', 'SF', 'LA', 'JAX', 'DAL', 'CHI',\n",
       "       'HOU', 'KC', 'SEA'], dtype=object)"
      ]
     },
     "execution_count": 32,
     "metadata": {},
     "output_type": "execute_result"
    }
   ],
   "source": [
    "teams = df['home_team'].unique()\n",
    "teams #now we have a nice list. We can use it"
   ]
  },
  {
   "cell_type": "markdown",
   "metadata": {},
   "source": [
    "----"
   ]
  },
  {
   "cell_type": "markdown",
   "metadata": {},
   "source": [
    "# Calculate Points Differential for each team for each game\n",
    "\n",
    "We have to take care. When it is a home game, it is home_score minus away_score.\n",
    "When it is away_game, the differential is away_score minus the home_score."
   ]
  },
  {
   "cell_type": "code",
   "execution_count": 40,
   "metadata": {},
   "outputs": [],
   "source": [
    "home_df = pd.DataFrame()\n",
    "home_df['team'] = df['home_team']\n",
    "home_df['score_diff'] = df['home_adv_score']\n",
    "\n",
    "away_df = pd.DataFrame()\n",
    "away_df['team'] = df['away_team']\n",
    "away_df['score_diff'] = df['home_adv_score'] * -1 \n"
   ]
  },
  {
   "cell_type": "code",
   "execution_count": 41,
   "metadata": {},
   "outputs": [],
   "source": [
    "df_game_diff = pd.concat([home_df, away_df])"
   ]
  },
  {
   "cell_type": "code",
   "execution_count": 42,
   "metadata": {},
   "outputs": [
    {
     "data": {
      "text/plain": [
       "Index(['team', 'score_diff'], dtype='object')"
      ]
     },
     "execution_count": 42,
     "metadata": {},
     "output_type": "execute_result"
    }
   ],
   "source": [
    "df_game_diff.columns"
   ]
  },
  {
   "cell_type": "markdown",
   "metadata": {},
   "source": [
    "The data is now ready. We can turn to plotting."
   ]
  },
  {
   "cell_type": "code",
   "execution_count": 68,
   "metadata": {},
   "outputs": [
    {
     "data": {
      "image/png": "[encoded data removed]",
      "text/plain": [
       "<Figure size 1080x288 with 1 Axes>"
      ]
     },
     "metadata": {
      "needs_background": "light"
     },
     "output_type": "display_data"
    }
   ],
   "source": [
    "plt.figure(figsize=(15, 4)) # adjust the size\n",
    "sns.boxplot(x='team', y='score_diff', data=df_game_diff);"
   ]
  },
  {
   "cell_type": "code",
   "execution_count": 60,
   "metadata": {},
   "outputs": [],
   "source": [
    "# Sort the teams by DECREASING ORDER of their MEDIAN score differential\n",
    "team_order = df_game_diff.groupby(by=[\"team\"])[\"score_diff\"].median().sort_values(ascending=False).index"
   ]
  },
  {
   "cell_type": "code",
   "execution_count": 65,
   "metadata": {},
   "outputs": [
    {
     "data": {
      "text/plain": [
       "Index(['NE', 'NO', 'KC', 'CHI', 'LA', 'BAL', 'LAC', 'TEN', 'SEA', 'PIT', 'HOU',\n",
       "       'IND', 'DAL', 'PHI', 'MIN', 'CLE', 'CAR', 'ATL', 'NYG', 'GB', 'DET',\n",
       "       'DEN', 'JAX', 'TB', 'CIN', 'SF', 'WAS', 'BUF', 'MIA', 'NYJ', 'ARI',\n",
       "       'OAK'],\n",
       "      dtype='object', name='team')"
      ]
     },
     "execution_count": 65,
     "metadata": {},
     "output_type": "execute_result"
    }
   ],
   "source": [
    "team_order # names of teams, sorted by how we want it"
   ]
  },
  {
   "cell_type": "code",
   "execution_count": 66,
   "metadata": {},
   "outputs": [
    {
     "data": {
      "image/png": "[encoded data removed]",
      "text/plain": [
       "<Figure size 1080x288 with 1 Axes>"
      ]
     },
     "metadata": {
      "needs_background": "light"
     },
     "output_type": "display_data"
    }
   ],
   "source": [
    "plt.figure(figsize=(15, 4))\n",
    "sns.boxplot(x='team', y='score_diff', order=team_order, data=df_game_diff);\n",
    "plt.savefig('../images/boxplot.JPG')"
   ]
  },
  {
   "cell_type": "markdown",
   "metadata": {},
   "source": [
    "We took each time's score differential for each game. We first calculated the differential for the home teams, and then did the same for the Away teams. Thus we ended up with twice as many rows as the number of games, one row per team, two rows per game.\n",
    "\n",
    "We then plotted Boxplots for each team, (16 data points in each Box/whisker plot for one team.)\n",
    "Finally, we sorted the teams by the decreasing order of their median score differential to the plot we wanted."
   ]
  }
 ],
 "metadata": {
  "kernelspec": {
   "display_name": "Python 3",
   "language": "python",
   "name": "python3"
  },
  "language_info": {
   "codemirror_mode": {
    "name": "ipython",
    "version": 3
   },
   "file_extension": ".py",
   "mimetype": "text/x-python",
   "name": "python",
   "nbconvert_exporter": "python",
   "pygments_lexer": "ipython3",
   "version": "3.7.4"
  }
 },
 "nbformat": 4,
 "nbformat_minor": 4
}
