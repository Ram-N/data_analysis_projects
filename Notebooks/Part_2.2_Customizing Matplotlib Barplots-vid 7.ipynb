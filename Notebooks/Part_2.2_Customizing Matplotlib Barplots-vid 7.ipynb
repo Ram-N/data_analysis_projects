{
 "cells": [
  {
   "cell_type": "markdown",
   "metadata": {},
   "source": [
    "### Notebook Used in Part 2 of Basic NFL Data Analysis\n",
    "\n",
    "This is the notebook I used for Part 2 of our Basic analysis of NFL games.\n",
    "- NFL Season: 2018-19\n",
    "\n",
    "Ram Narasimhan\n",
    "\n",
    "Questions? Twitter: @ramnarasimhan"
   ]
  },
  {
   "cell_type": "code",
   "execution_count": 3,
   "metadata": {},
   "outputs": [],
   "source": [
    "import pandas as pd\n",
    "import seaborn as sns\n",
    "import matplotlib.pyplot as plt\n",
    "%matplotlib inline"
   ]
  },
  {
   "cell_type": "markdown",
   "metadata": {},
   "source": [
    "### All the Preprocessing Steps that we did in Part 1 one cell"
   ]
  },
  {
   "cell_type": "code",
   "execution_count": 4,
   "metadata": {},
   "outputs": [],
   "source": [
    "base = \"https://raw.githubusercontent.com/ryurko/nflscrapR-data/master/games_data/regular_season/reg_games_\"\n",
    "year = 2018\n",
    "coda = \".csv\"\n",
    "url = base + str(year) + coda\n",
    "\n",
    "df = pd.read_csv(url)\n",
    "\n",
    "# There are some columns that we don't want. Let's drop those\n",
    "drop_columns = ['type', 'state_of_game', 'game_url']\n",
    "\n",
    "# axis = 1 is to tell Pandas to drop the columns.\n",
    "# inplace = True drops them permanently\n",
    "df.drop(columns=drop_columns, axis=1, inplace=True)\n",
    "\n",
    "# We create two new columns in the data frame and store it. \n",
    "# This column can take negative values (if the home team lost) or positive values (if the home team won)\n",
    "df['home_adv_score'] = df['home_score'] - df['away_score']\n",
    "\n",
    "#THe following line creates a new column, with True/False values for whether the home team won\n",
    "df['home_win'] = df['home_adv_score'] >= 0 \n",
    "df['away_win'] = df['home_adv_score'] < 0 "
   ]
  },
  {
   "cell_type": "code",
   "execution_count": 5,
   "metadata": {},
   "outputs": [
    {
     "name": "stdout",
     "output_type": "stream",
     "text": [
      "(256, 10)\n"
     ]
    },
    {
     "data": {
      "text/html": [
       "<div>\n",
       "<style scoped>\n",
       "    .dataframe tbody tr th:only-of-type {\n",
       "        vertical-align: middle;\n",
       "    }\n",
       "\n",
       "    .dataframe tbody tr th {\n",
       "        vertical-align: top;\n",
       "    }\n",
       "\n",
       "    .dataframe thead th {\n",
       "        text-align: right;\n",
       "    }\n",
       "</style>\n",
       "<table border=\"1\" class=\"dataframe\">\n",
       "  <thead>\n",
       "    <tr style=\"text-align: right;\">\n",
       "      <th></th>\n",
       "      <th>game_id</th>\n",
       "      <th>home_team</th>\n",
       "      <th>away_team</th>\n",
       "      <th>week</th>\n",
       "      <th>season</th>\n",
       "      <th>home_score</th>\n",
       "      <th>away_score</th>\n",
       "      <th>home_adv_score</th>\n",
       "      <th>home_win</th>\n",
       "      <th>away_win</th>\n",
       "    </tr>\n",
       "  </thead>\n",
       "  <tbody>\n",
       "    <tr>\n",
       "      <th>0</th>\n",
       "      <td>2018090600</td>\n",
       "      <td>PHI</td>\n",
       "      <td>ATL</td>\n",
       "      <td>1</td>\n",
       "      <td>2018</td>\n",
       "      <td>18</td>\n",
       "      <td>12</td>\n",
       "      <td>6</td>\n",
       "      <td>True</td>\n",
       "      <td>False</td>\n",
       "    </tr>\n",
       "    <tr>\n",
       "      <th>1</th>\n",
       "      <td>2018090900</td>\n",
       "      <td>BAL</td>\n",
       "      <td>BUF</td>\n",
       "      <td>1</td>\n",
       "      <td>2018</td>\n",
       "      <td>47</td>\n",
       "      <td>3</td>\n",
       "      <td>44</td>\n",
       "      <td>True</td>\n",
       "      <td>False</td>\n",
       "    </tr>\n",
       "    <tr>\n",
       "      <th>2</th>\n",
       "      <td>2018090907</td>\n",
       "      <td>NYG</td>\n",
       "      <td>JAX</td>\n",
       "      <td>1</td>\n",
       "      <td>2018</td>\n",
       "      <td>15</td>\n",
       "      <td>20</td>\n",
       "      <td>-5</td>\n",
       "      <td>False</td>\n",
       "      <td>True</td>\n",
       "    </tr>\n",
       "    <tr>\n",
       "      <th>3</th>\n",
       "      <td>2018090906</td>\n",
       "      <td>NO</td>\n",
       "      <td>TB</td>\n",
       "      <td>1</td>\n",
       "      <td>2018</td>\n",
       "      <td>40</td>\n",
       "      <td>48</td>\n",
       "      <td>-8</td>\n",
       "      <td>False</td>\n",
       "      <td>True</td>\n",
       "    </tr>\n",
       "    <tr>\n",
       "      <th>4</th>\n",
       "      <td>2018090905</td>\n",
       "      <td>NE</td>\n",
       "      <td>HOU</td>\n",
       "      <td>1</td>\n",
       "      <td>2018</td>\n",
       "      <td>27</td>\n",
       "      <td>20</td>\n",
       "      <td>7</td>\n",
       "      <td>True</td>\n",
       "      <td>False</td>\n",
       "    </tr>\n",
       "  </tbody>\n",
       "</table>\n",
       "</div>"
      ],
      "text/plain": [
       "      game_id home_team away_team  week  season  home_score  away_score  \\\n",
       "0  2018090600       PHI       ATL     1    2018          18          12   \n",
       "1  2018090900       BAL       BUF     1    2018          47           3   \n",
       "2  2018090907       NYG       JAX     1    2018          15          20   \n",
       "3  2018090906        NO        TB     1    2018          40          48   \n",
       "4  2018090905        NE       HOU     1    2018          27          20   \n",
       "\n",
       "   home_adv_score  home_win  away_win  \n",
       "0               6      True     False  \n",
       "1              44      True     False  \n",
       "2              -5     False      True  \n",
       "3              -8     False      True  \n",
       "4               7      True     False  "
      ]
     },
     "execution_count": 5,
     "metadata": {},
     "output_type": "execute_result"
    }
   ],
   "source": [
    "print(df.shape) #one row for each game that was played\n",
    "df.head()"
   ]
  },
  {
   "cell_type": "markdown",
   "metadata": {},
   "source": [
    "### Filter down to one Team, calculate its statistics"
   ]
  },
  {
   "cell_type": "code",
   "execution_count": 6,
   "metadata": {},
   "outputs": [
    {
     "data": {
      "text/plain": [
       "array(['PHI', 'BAL', 'NYG', 'NO', 'NE', 'MIN', 'MIA', 'IND', 'CLE', 'LAC',\n",
       "       'DEN', 'CAR', 'ARI', 'GB', 'DET', 'OAK', 'CIN', 'ATL', 'WAS',\n",
       "       'TEN', 'TB', 'PIT', 'NYJ', 'BUF', 'SF', 'LA', 'JAX', 'DAL', 'CHI',\n",
       "       'HOU', 'KC', 'SEA'], dtype=object)"
      ]
     },
     "execution_count": 6,
     "metadata": {},
     "output_type": "execute_result"
    }
   ],
   "source": [
    "teams = df['home_team'].unique()\n",
    "teams #now we have a nice list. We can use it"
   ]
  },
  {
   "cell_type": "code",
   "execution_count": 7,
   "metadata": {},
   "outputs": [],
   "source": [
    "home_played = []\n",
    "home_wins = []\n",
    "home_losses = []\n",
    "\n",
    "for team in teams:\n",
    "    home_team_rows = df['home_team'] == team\n",
    "    home_team_games = len(df[home_team_rows])\n",
    "    home_team_wins = df[home_team_rows]['home_win'].sum()\n",
    "    home_team_losses = home_team_games - home_team_wins\n",
    "    \n",
    "    home_played.append( home_team_games)\n",
    "    home_wins.append( home_team_wins)\n",
    "    home_losses.append( home_team_losses)\n",
    "        "
   ]
  },
  {
   "cell_type": "markdown",
   "metadata": {},
   "source": [
    "We do the exact same things, but for AWAY GAMES"
   ]
  },
  {
   "cell_type": "code",
   "execution_count": 8,
   "metadata": {},
   "outputs": [],
   "source": [
    "away_played = []\n",
    "away_wins = []\n",
    "away_losses = []\n",
    "\n",
    "for team in teams:\n",
    "    away_team_rows = df['away_team'] == team\n",
    "    away_team_games = len(df[away_team_rows])\n",
    "    away_team_wins = df[away_team_rows]['away_win'].sum()\n",
    "    away_team_losses = away_team_games - away_team_wins\n",
    "    \n",
    "    away_played.append( away_team_games)\n",
    "    away_wins.append( away_team_wins)\n",
    "    away_losses.append( away_team_losses)\n"
   ]
  },
  {
   "cell_type": "markdown",
   "metadata": {},
   "source": [
    "Put it all together in one data frame. It is very important that ALL of our columns be of the exact same length, and they should be in the exact same order of teams. Otherwise, we risk jumbling up the results, which we don't want."
   ]
  },
  {
   "cell_type": "code",
   "execution_count": 9,
   "metadata": {},
   "outputs": [],
   "source": [
    "#store the result in a new data frame\n",
    "df_record = pd.DataFrame({'Team': teams, 'HP': home_played, 'HW': home_wins, 'HL': home_losses, \n",
    "              'AP': away_played, 'AW': away_wins, 'AL': away_losses})"
   ]
  },
  {
   "cell_type": "code",
   "execution_count": 10,
   "metadata": {},
   "outputs": [],
   "source": [
    "# Add the two final columns\n",
    "df_record['Wins'] = df_record['HW'] + df_record['AW']\n",
    "df_record['Losses'] = df_record['HL'] + df_record['AL']"
   ]
  },
  {
   "cell_type": "markdown",
   "metadata": {},
   "source": [
    "# Customizing a Bar Plot \n",
    "\n",
    "We want to make it look exactly a certain way.\n",
    "\n",
    "Goal: Show the wins as positive numbers and losses as negative bars. The bars have to be stacked.\n",
    "And every bar has to have the same \"Zero\" point. Let's see how to achieve this using Pandas and Matplotlib."
   ]
  },
  {
   "cell_type": "code",
   "execution_count": 18,
   "metadata": {},
   "outputs": [
    {
     "data": {
      "text/plain": [
       "<matplotlib.axes._subplots.AxesSubplot at 0x242d6e0e908>"
      ]
     },
     "execution_count": 18,
     "metadata": {},
     "output_type": "execute_result"
    },
    {
     "data": {
      "image/png": "[encoded data removed]",
      "text/plain": [
       "<Figure size 1080x288 with 1 Axes>"
      ]
     },
     "metadata": {
      "needs_background": "light"
     },
     "output_type": "display_data"
    }
   ],
   "source": [
    "cols = ['Losses', 'Wins']\n",
    "df_record[cols].plot(kind='bar', stacked=True, figsize=(15, 4))"
   ]
  },
  {
   "cell_type": "markdown",
   "metadata": {},
   "source": [
    "### The padding trick"
   ]
  },
  {
   "cell_type": "code",
   "execution_count": 19,
   "metadata": {},
   "outputs": [],
   "source": [
    "df_record['pad'] = 16 - df_record['Losses']"
   ]
  },
  {
   "cell_type": "markdown",
   "metadata": {},
   "source": [
    "### Custom Colors"
   ]
  },
  {
   "cell_type": "code",
   "execution_count": 22,
   "metadata": {},
   "outputs": [
    {
     "data": {
      "image/png": "[encoded data removed]",
      "text/plain": [
       "<Figure size 1080x288 with 1 Axes>"
      ]
     },
     "metadata": {
      "needs_background": "light"
     },
     "output_type": "display_data"
    }
   ],
   "source": [
    "cols = ['pad', 'Losses', 'Wins']\n",
    "win_loss_colors = ['white', 'lightsalmon', 'green']\n",
    "df_record[cols].plot(kind='bar', stacked=True, figsize=(15, 4),\n",
    "                    legend=False,\n",
    "                    color=win_loss_colors);"
   ]
  },
  {
   "cell_type": "markdown",
   "metadata": {},
   "source": [
    "### Set Index"
   ]
  },
  {
   "cell_type": "code",
   "execution_count": 23,
   "metadata": {},
   "outputs": [
    {
     "data": {
      "image/png": "[encoded data removed]",
      "text/plain": [
       "<Figure size 1080x288 with 1 Axes>"
      ]
     },
     "metadata": {
      "needs_background": "light"
     },
     "output_type": "display_data"
    }
   ],
   "source": [
    "cols = ['pad', 'Losses', 'Wins']\n",
    "win_loss_colors = ['white', 'lightsalmon', 'green']\n",
    "df_record.set_index('Team')[cols].plot(kind='bar', stacked=True, figsize=(15, 4),\n",
    "                    legend=False,\n",
    "                    color=win_loss_colors);"
   ]
  },
  {
   "cell_type": "markdown",
   "metadata": {},
   "source": [
    "### Sort By Wins"
   ]
  },
  {
   "cell_type": "code",
   "execution_count": 27,
   "metadata": {},
   "outputs": [
    {
     "data": {
      "image/png": "[encoded data removed]",
      "text/plain": [
       "<Figure size 1080x288 with 1 Axes>"
      ]
     },
     "metadata": {
      "needs_background": "light"
     },
     "output_type": "display_data"
    }
   ],
   "source": [
    "cols = ['pad', 'Losses', 'Wins']\n",
    "win_loss_colors = ['white', 'lightsalmon', 'green']\n",
    "df_record.set_index('Team')[cols].sort_values('Wins', ascending=False).plot(kind='bar', stacked=True, figsize=(15, 4),\n",
    "                    legend=False,\n",
    "                    color=win_loss_colors);"
   ]
  },
  {
   "cell_type": "markdown",
   "metadata": {},
   "source": [
    "### Changing the Y-axis Labels"
   ]
  },
  {
   "cell_type": "code",
   "execution_count": 33,
   "metadata": {},
   "outputs": [
    {
     "data": {
      "image/png": "[encoded data removed]",
      "text/plain": [
       "<Figure size 1080x288 with 1 Axes>"
      ]
     },
     "metadata": {
      "needs_background": "light"
     },
     "output_type": "display_data"
    }
   ],
   "source": [
    "cols = ['pad', 'Losses', 'Wins']\n",
    "win_loss_colors = ['white', 'lightsalmon', 'green']\n",
    "df_record.set_index('Team')[cols].sort_values('Wins', ascending=False).plot(kind='bar', stacked=True, figsize=(15, 4),\n",
    "                    legend=False,\n",
    "                    color=win_loss_colors);\n",
    "\n",
    "tick_pos = [0, 8, 16, 24, 32]\n",
    "custom_labels = [-16, -8, 0, 8, 16]\n",
    "plt.yticks(ticks=tick_pos, labels=custom_labels);\n",
    "plt.title('NFL 2018-19 Season Win Loss by Team');"
   ]
  },
  {
   "cell_type": "code",
   "execution_count": null,
   "metadata": {},
   "outputs": [],
   "source": []
  },
  {
   "cell_type": "markdown",
   "metadata": {},
   "source": [
    "### Save the figure"
   ]
  },
  {
   "cell_type": "code",
   "execution_count": 35,
   "metadata": {},
   "outputs": [
    {
     "data": {
      "image/png": "[encoded data removed]",
      "text/plain": [
       "<Figure size 1080x288 with 1 Axes>"
      ]
     },
     "metadata": {
      "needs_background": "light"
     },
     "output_type": "display_data"
    }
   ],
   "source": [
    "cols = ['pad', 'Losses', 'Wins']\n",
    "win_loss_colors = ['white', 'lightsalmon', 'green']\n",
    "df_record.set_index('Team')[cols].sort_values('Wins', ascending=False).plot(kind='bar', stacked=True, figsize=(15, 4),\n",
    "                    legend=False,\n",
    "                    color=win_loss_colors);\n",
    "\n",
    "tick_pos = [0, 8, 16, 24, 32]\n",
    "custom_labels = [-16, -8, 0, 8, 16]\n",
    "plt.yticks(ticks=tick_pos, labels=custom_labels)\n",
    "plt.title('NFL 2018-19 Season Win Loss by Team')\n",
    "plt.savefig('../images/win_loss.JPG')"
   ]
  },
  {
   "cell_type": "markdown",
   "metadata": {},
   "source": [
    "This is the plot that we wanted, with a zero base and custom colors."
   ]
  }
 ],
 "metadata": {
  "kernelspec": {
   "display_name": "Python 3",
   "language": "python",
   "name": "python3"
  },
  "language_info": {
   "codemirror_mode": {
    "name": "ipython",
    "version": 3
   },
   "file_extension": ".py",
   "mimetype": "text/x-python",
   "name": "python",
   "nbconvert_exporter": "python",
   "pygments_lexer": "ipython3",
   "version": "3.7.4"
  }
 },
 "nbformat": 4,
 "nbformat_minor": 4
}
