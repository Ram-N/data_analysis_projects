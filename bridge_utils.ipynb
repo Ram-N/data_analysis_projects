{
 "cells": [
  {
   "cell_type": "code",
   "execution_count": 1,
   "metadata": {},
   "outputs": [],
   "source": [
    "import os\n",
    "import pandas as pd\n",
    "import math\n",
    "import random"
   ]
  },
  {
   "cell_type": "code",
   "execution_count": 2,
   "metadata": {},
   "outputs": [],
   "source": [
    "from termcolor import colored\n",
    "\n",
    "SPADES = f'\\u2660'  \n",
    "CLUBS = '\\u2663'\n",
    "HEARTS = colored('\\u2665', 'red')\n",
    "DIAMONDS = colored('\\u2666', 'red')"
   ]
  },
  {
   "cell_type": "code",
   "execution_count": null,
   "metadata": {},
   "outputs": [],
   "source": [
    "def _split(total):\n",
    "    '''return every possible 2 number tuple that sums to total'''\n",
    "    combos = []\n",
    "    for i in range(total):\n",
    "        rem = total - i\n",
    "        combos.append((i, rem))\n",
    "    return combos\n",
    "\n",
    "def every_split_in_3(total):\n",
    "    ''' Returns Every possible set of 3 numbers that add up to total'''\n",
    "    all_distribs = []\n",
    "    two = _split(total)\n",
    "    for s in two:\n",
    "        three = _split(s[1])\n",
    "        for s3 in three:\n",
    "            all_distribs.append((s[0], s3[0], s3[1] ))\n",
    "    return(all_distribs)\n",
    "\n",
    "def every_split_in_4(total):\n",
    "    ''' Returns Every possible set of 4 SUIT distribution that add up to total'''\n",
    "    all_distribs = []\n",
    "    two = _split(total)\n",
    "    for s in two:\n",
    "        three = _split(s[1])\n",
    "        for s3 in three:\n",
    "            four = _split(s3[1])\n",
    "            for s4 in four:\n",
    "                all_distribs.append((s[0], s3[0], s4[0],  s4[1] ))\n",
    "    return(all_distribs)"
   ]
  },
  {
   "cell_type": "code",
   "execution_count": 4,
   "metadata": {},
   "outputs": [],
   "source": [
    "def generate_points_single_hand(score):\n",
    "    '''Returns Four numbers (HCPs) that add up to a given total score'''\n",
    "\n",
    "    if score > 40:\n",
    "        raise ValueError(f\"Points {score} should be less than 40 per hand\")\n",
    "    \n",
    "\n",
    "    pts = [0 , 0 , 0 , 0]\n",
    "    remainder = score\n",
    "    for s in range(3):        \n",
    "        if remainder > 0:\n",
    "            pts[s] = random.randint(0, min(remainder, 10))\n",
    "            remainder = remainder - pts[s]\n",
    "    pts[3] = remainder\n",
    "    \n",
    "    return(pts)"
   ]
  },
  {
   "cell_type": "code",
   "execution_count": 5,
   "metadata": {},
   "outputs": [
    {
     "data": {
      "text/plain": [
       "[0, 6, 3, 9]"
      ]
     },
     "execution_count": 5,
     "metadata": {},
     "output_type": "execute_result"
    }
   ],
   "source": [
    "generate_points_single_hand(18)"
   ]
  },
  {
   "cell_type": "code",
   "execution_count": 7,
   "metadata": {},
   "outputs": [],
   "source": [
    "def gen_all_suit_distributions():\n",
    "    return every_split_in_4(total=13)\n",
    "\n",
    "\n",
    "\n",
    "def every_hcpt_split_in_4_suits(score):\n",
    "\n",
    "    all_splits = every_split_in_4(score)\n",
    "    \n",
    "    valid_splits = [spl for spl in all_splits if not (any(e for e in spl if e>10))]\n",
    "    return list(reversed(valid_splits))\n",
    "        "
   ]
  },
  {
   "cell_type": "code",
   "execution_count": 9,
   "metadata": {},
   "outputs": [],
   "source": [
    "def single_split_in(num_splits, total):\n",
    "    \n",
    "    result = []\n",
    "    \n",
    "    if num_splits == 2:\n",
    "                result = random.choice(_split(total))\n",
    "    if num_splits == 3:\n",
    "        result = random.choice(every_split_in_3(total))\n",
    "        \n",
    "    if num_splits == 4:\n",
    "        result = random.choice(every_split_in_4(total))\n",
    "\n",
    "        \n",
    "    return result"
   ]
  },
  {
   "cell_type": "code",
   "execution_count": 92,
   "metadata": {},
   "outputs": [],
   "source": [
    "def print_hand(hand):\n",
    "    #print(hand)\n",
    "    sp, he, di, cl = hand\n",
    "    for s in sp:\n",
    "        for h in he:\n",
    "            for d in di:\n",
    "                for c in cl:\n",
    "                    #print(s,h,d,c)\n",
    "                    print(f'{SPADES}{s[0]}{(\"-\"*s[1])}', \"  \",\n",
    "                              f'{HEARTS}{h[0]}{(\"-\"*h[1])}',\"  \",\n",
    "                              f'{DIAMONDS}{d[0]}{(\"-\"*d[1])}', \"  \",\n",
    "                              f'{CLUBS}{c[0]}{(\"-\"*c[1])}'\n",
    "                             )"
   ]
  },
  {
   "cell_type": "code",
   "execution_count": 10,
   "metadata": {},
   "outputs": [
    {
     "data": {
      "text/plain": [
       "(3, 1, 1, 3)"
      ]
     },
     "execution_count": 10,
     "metadata": {},
     "output_type": "execute_result"
    }
   ],
   "source": [
    "single_split_in(4, 8)"
   ]
  },
  {
   "cell_type": "code",
   "execution_count": 11,
   "metadata": {},
   "outputs": [],
   "source": [
    "all_distribs = gen_all_suit_distributions()\n",
    "all_hcp_combos =every_split_in_4(40)"
   ]
  },
  {
   "cell_type": "code",
   "execution_count": 12,
   "metadata": {},
   "outputs": [
    {
     "name": "stdout",
     "output_type": "stream",
     "text": [
      "(11, 9, 4, 16)\n",
      "2 ♠ 4 \u001b[31m♥\u001b[0m 0 \u001b[31m♦\u001b[0m 5 ♣\n",
      "2 ♠ 4 \u001b[31m♥\u001b[0m 0 \u001b[31m♦\u001b[0m 3 ♣\n",
      "4 ♠ 0 \u001b[31m♥\u001b[0m 0 \u001b[31m♦\u001b[0m 0 ♣\n",
      "4 ♠ 10 \u001b[31m♥\u001b[0m 2 \u001b[31m♦\u001b[0m 0 ♣\n"
     ]
    }
   ],
   "source": [
    "distrib, hcp = random.choice(all_distribs), random.choice(all_hcp_combos)\n",
    "print(hcp)\n",
    "for i in range(4):\n",
    "    spts, hpts, dpts, cpts = generate_single_hand_points(hcp[i])\n",
    "    print(spts, SPADES, hpts, HEARTS, dpts, DIAMONDS, cpts, CLUBS)"
   ]
  },
  {
   "cell_type": "code",
   "execution_count": 13,
   "metadata": {},
   "outputs": [
    {
     "data": {
      "text/plain": [
       "[1, 0, 9, 8]"
      ]
     },
     "execution_count": 13,
     "metadata": {},
     "output_type": "execute_result"
    }
   ],
   "source": [
    "generate_single_hand_points(18)"
   ]
  },
  {
   "cell_type": "code",
   "execution_count": 14,
   "metadata": {},
   "outputs": [
    {
     "data": {
      "text/plain": [
       "[5, 4, 2, 2]"
      ]
     },
     "execution_count": 14,
     "metadata": {},
     "output_type": "execute_result"
    }
   ],
   "source": [
    "[5, 4, 2, 2]"
   ]
  },
  {
   "cell_type": "code",
   "execution_count": 59,
   "metadata": {},
   "outputs": [
    {
     "name": "stdout",
     "output_type": "stream",
     "text": [
      "2\n",
      "3\n"
     ]
    }
   ],
   "source": [
    "for a in (['AE', 'ASD']):\n",
    "    print(len(a))"
   ]
  },
  {
   "cell_type": "code",
   "execution_count": 117,
   "metadata": {},
   "outputs": [],
   "source": [
    "hpdict = {10: ['AKQJ'], 9: ['AKQ'], 8:['AKJ'],\n",
    "          7: ['AK', 'AQJ'], 6: ['AQ', 'KQJ'],\n",
    "          5: ['AJ', 'KQ', ], 4: ['A', 'KJ'], \n",
    "          3: ['K', 'QJ'], 2:['Q'], 1:['J']}\n",
    "\n",
    "def draw_high_cards_for(score, rnd=True):\n",
    "    '''returns a combination of AKQJ that adds up to score'''\n",
    "    \n",
    "    if score > 10:\n",
    "        ValueError(\"Requested score {score} not possible with AKQJ\")\n",
    "    \n",
    "    if rnd:\n",
    "        return random.choice(hpdict[score])\n",
    "    else:\n",
    "        return hpdict[score]\n",
    "\n",
    "def gen_one_suit_for_one_hand(score, num_cards, rnd=True):\n",
    "    \"\"\"\n",
    "    generates num_cards for one Suit that total up to Score HCP\n",
    "    \n",
    "    Returns a tuple with HC and LO cards\n",
    "    Ex. Give me 5 cards of a single suit that add up to 7 HCP\n",
    "    \n",
    "    \n",
    "    Example\n",
    "    --------\n",
    "    \n",
    "    >>> gen_one_suit_for_one_hand(7,5)\n",
    "    [('A', 4), ('Q', 4), ('J', 4)]\n",
    "    \n",
    "    If you want all possible HCP options, set rnd to False.\n",
    "    \n",
    "    >>> gen_one_suit_for_one_hand(7, 5, False)\n",
    "    [('AK', 3), ('AQJ', 2)]\n",
    "    \n",
    "    \"\"\"\n",
    "\n",
    "    done = 0\n",
    "    safety = 0\n",
    "    while(not done):\n",
    "        done = 1\n",
    "        hcards = draw_high_cards_for(score, rnd)\n",
    "        ret = []\n",
    "        # Depending on rnd and the score, hcards could either be of length 1 or 2. \n",
    "        # If hcards is a list, we have to go through the list.\n",
    "        # print(hcards, len(hcards), type(hcards))\n",
    "        if isinstance(hcards, list):\n",
    "            for hc in hcards:        \n",
    "                if len(hc) > num_cards:\n",
    "                    done = 0\n",
    "                lo_cards = num_cards - len(hc)\n",
    "                ret.append((hc, lo_cards))\n",
    "                \n",
    "        else: #case where hcards is a string\n",
    "            if len(hcards) > num_cards:\n",
    "                done = 0\n",
    "            lo_cards = num_cards - len(hcards)\n",
    "            ret.append((hcards, lo_cards))\n",
    "            \n",
    "        safety += 1\n",
    "        if safety == 50:\n",
    "            raise ValueError(f'Not possible to make high score {score} with {num_cards} cards')            \n",
    "\n",
    "    \n",
    "    return ret"
   ]
  },
  {
   "cell_type": "code",
   "execution_count": 118,
   "metadata": {},
   "outputs": [
    {
     "data": {
      "text/plain": [
       "[('AK', 3), ('AQJ', 2)]"
      ]
     },
     "execution_count": 118,
     "metadata": {},
     "output_type": "execute_result"
    }
   ],
   "source": [
    "gen_one_suit_for_one_hand(7,5, False)"
   ]
  },
  {
   "cell_type": "code",
   "execution_count": 120,
   "metadata": {},
   "outputs": [],
   "source": [
    "def gen_every_hand(score=18, suits = [5, 4, 2, 2]):\n",
    "    \n",
    "    valid_pt_splits = every_hcpt_split_in_4_suits(score)\n",
    "    \n",
    "    all_hands = []\n",
    "    for hand_pts in valid_pt_splits:\n",
    "        hand, fail = [], 0\n",
    "        for suit, suit_pt in enumerate(hand_pts):\n",
    "            try:\n",
    "                hs = gen_one_suit_for_one_hand(suit_pt, suits[suit], False) #tuple of cards and num_los's\n",
    "                hand.append(hs)\n",
    "            except:\n",
    "                fail = 1\n",
    "        if not fail:\n",
    "            all_hands.append(hand)\n",
    "            \n",
    "        \n",
    "    return all_hands"
   ]
  },
  {
   "cell_type": "code",
   "execution_count": 121,
   "metadata": {},
   "outputs": [],
   "source": [
    "def gen_single_hand(score=18, suits = [5, 4, 2, 2]):\n",
    "    \n",
    "    valid_pt_splits = every_hcpt_split_in_4_suits(score)\n",
    "    \n",
    "    done = 0\n",
    "    while not done:\n",
    "        hand_pts = random.choice(valids)\n",
    "        #print(f'hand_pts = {hand_pts}')\n",
    "        hand = []\n",
    "        done = 1\n",
    "        for i, suit_pt in enumerate(hand_pts):\n",
    "            try:\n",
    "                hs = gen_one_suit_for_one_hand(suit_pt, suits[i], False) #tuple of cards and num_los's\n",
    "                hand.append(hs)\n",
    "            except:\n",
    "                done = 0\n",
    "\n",
    "    return hand"
   ]
  },
  {
   "cell_type": "code",
   "execution_count": 122,
   "metadata": {},
   "outputs": [],
   "source": [
    "ah18_5422 = gen_every_hand()"
   ]
  },
  {
   "cell_type": "code",
   "execution_count": 123,
   "metadata": {},
   "outputs": [
    {
     "data": {
      "text/plain": [
       "205"
      ]
     },
     "execution_count": 123,
     "metadata": {},
     "output_type": "execute_result"
    }
   ],
   "source": [
    "len(ah18_5422)"
   ]
  },
  {
   "cell_type": "code",
   "execution_count": 124,
   "metadata": {},
   "outputs": [
    {
     "name": "stdout",
     "output_type": "stream",
     "text": [
      "♠AKQJ-    \u001b[31m♥\u001b[0mAQ--    \u001b[31m♦\u001b[0mJ-    ♣J-\n",
      "♠AKQJ-    \u001b[31m♥\u001b[0mKQJ-    \u001b[31m♦\u001b[0mJ-    ♣J-\n",
      "♠AKQJ-    \u001b[31m♥\u001b[0mAJ--    \u001b[31m♦\u001b[0mQ-    ♣J-\n",
      "♠AKQJ-    \u001b[31m♥\u001b[0mKQ--    \u001b[31m♦\u001b[0mQ-    ♣J-\n",
      "♠AKQJ-    \u001b[31m♥\u001b[0mAJ--    \u001b[31m♦\u001b[0mJ-    ♣Q-\n",
      "♠AKQJ-    \u001b[31m♥\u001b[0mKQ--    \u001b[31m♦\u001b[0mJ-    ♣Q-\n",
      "♠AKQJ-    \u001b[31m♥\u001b[0mA---    \u001b[31m♦\u001b[0mK-    ♣J-\n",
      "♠AKQJ-    \u001b[31m♥\u001b[0mA---    \u001b[31m♦\u001b[0mQJ    ♣J-\n",
      "♠AKQJ-    \u001b[31m♥\u001b[0mKJ--    \u001b[31m♦\u001b[0mK-    ♣J-\n",
      "♠AKQJ-    \u001b[31m♥\u001b[0mKJ--    \u001b[31m♦\u001b[0mQJ    ♣J-\n",
      "♠AKQJ-    \u001b[31m♥\u001b[0mA---    \u001b[31m♦\u001b[0mQ-    ♣Q-\n",
      "♠AKQJ-    \u001b[31m♥\u001b[0mKJ--    \u001b[31m♦\u001b[0mQ-    ♣Q-\n",
      "♠AKQJ-    \u001b[31m♥\u001b[0mA---    \u001b[31m♦\u001b[0mJ-    ♣K-\n",
      "♠AKQJ-    \u001b[31m♥\u001b[0mA---    \u001b[31m♦\u001b[0mJ-    ♣QJ\n",
      "♠AKQJ-    \u001b[31m♥\u001b[0mKJ--    \u001b[31m♦\u001b[0mJ-    ♣K-\n",
      "♠AKQJ-    \u001b[31m♥\u001b[0mKJ--    \u001b[31m♦\u001b[0mJ-    ♣QJ\n",
      "♠AKQJ-    \u001b[31m♥\u001b[0mK---    \u001b[31m♦\u001b[0mA-    ♣J-\n",
      "♠AKQJ-    \u001b[31m♥\u001b[0mK---    \u001b[31m♦\u001b[0mKJ    ♣J-\n",
      "♠AKQJ-    \u001b[31m♥\u001b[0mQJ--    \u001b[31m♦\u001b[0mA-    ♣J-\n",
      "♠AKQJ-    \u001b[31m♥\u001b[0mQJ--    \u001b[31m♦\u001b[0mKJ    ♣J-\n",
      "♠AKQJ-    \u001b[31m♥\u001b[0mK---    \u001b[31m♦\u001b[0mK-    ♣Q-\n",
      "♠AKQJ-    \u001b[31m♥\u001b[0mK---    \u001b[31m♦\u001b[0mQJ    ♣Q-\n",
      "♠AKQJ-    \u001b[31m♥\u001b[0mQJ--    \u001b[31m♦\u001b[0mK-    ♣Q-\n",
      "♠AKQJ-    \u001b[31m♥\u001b[0mQJ--    \u001b[31m♦\u001b[0mQJ    ♣Q-\n",
      "♠AKQJ-    \u001b[31m♥\u001b[0mK---    \u001b[31m♦\u001b[0mQ-    ♣K-\n",
      "♠AKQJ-    \u001b[31m♥\u001b[0mK---    \u001b[31m♦\u001b[0mQ-    ♣QJ\n",
      "♠AKQJ-    \u001b[31m♥\u001b[0mQJ--    \u001b[31m♦\u001b[0mQ-    ♣K-\n",
      "♠AKQJ-    \u001b[31m♥\u001b[0mQJ--    \u001b[31m♦\u001b[0mQ-    ♣QJ\n",
      "♠AKQJ-    \u001b[31m♥\u001b[0mK---    \u001b[31m♦\u001b[0mJ-    ♣A-\n",
      "♠AKQJ-    \u001b[31m♥\u001b[0mK---    \u001b[31m♦\u001b[0mJ-    ♣KJ\n",
      "♠AKQJ-    \u001b[31m♥\u001b[0mQJ--    \u001b[31m♦\u001b[0mJ-    ♣A-\n",
      "♠AKQJ-    \u001b[31m♥\u001b[0mQJ--    \u001b[31m♦\u001b[0mJ-    ♣KJ\n"
     ]
    }
   ],
   "source": [
    "for h in ah18_5422[:10]:\n",
    "    print_hand(h)"
   ]
  },
  {
   "cell_type": "code",
   "execution_count": null,
   "metadata": {},
   "outputs": [],
   "source": []
  }
 ],
 "metadata": {
  "kernelspec": {
   "display_name": "Python 3",
   "language": "python",
   "name": "python3"
  },
  "language_info": {
   "codemirror_mode": {
    "name": "ipython",
    "version": 3
   },
   "file_extension": ".py",
   "mimetype": "text/x-python",
   "name": "python",
   "nbconvert_exporter": "python",
   "pygments_lexer": "ipython3",
   "version": "3.7.4"
  }
 },
 "nbformat": 4,
 "nbformat_minor": 4
}
